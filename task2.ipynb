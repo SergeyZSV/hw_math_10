{
 "cells": [
  {
   "cell_type": "markdown",
   "metadata": {},
   "source": [
    "В одной группе из 100 больных наблюдалось улучшение у 75, а в другой из 100 больных среди 69. Оценить с помощью доверительного интервала разность долей больных, у которых наблюдались улучшения."
   ]
  },
  {
   "cell_type": "markdown",
   "metadata": {},
   "source": [
    "### Сравнения долей \n",
    "(_не по заданию, но случайно сделал, удалять жалко_)"
   ]
  },
  {
   "cell_type": "markdown",
   "metadata": {},
   "source": [
    "$\n",
    "z = \\frac{|\\hat{p_1} - \\hat{p_2}| - \\frac{1}{2}(\\frac{1}{n_1} + \\frac{1}{n_2})}{\\sqrt{p(1-p) * (\\frac{1}{n_1} + \\frac{1}{n_2})}}\n",
    "$"
   ]
  },
  {
   "cell_type": "code",
   "execution_count": 1,
   "metadata": {},
   "outputs": [],
   "source": [
    "import numpy as np\n",
    "import scipy.stats as stats"
   ]
  },
  {
   "cell_type": "code",
   "execution_count": 2,
   "metadata": {},
   "outputs": [],
   "source": [
    "n1 = 100\n",
    "m1 = 75\n",
    "n2 = 100\n",
    "m2 = 69"
   ]
  },
  {
   "cell_type": "code",
   "execution_count": 3,
   "metadata": {},
   "outputs": [],
   "source": [
    "p1 = m1 / n1\n",
    "p2 = m2 / n2\n",
    "p = (m1 + m2) / (n1 + n2)"
   ]
  },
  {
   "cell_type": "code",
   "execution_count": 4,
   "metadata": {},
   "outputs": [],
   "source": [
    "z_num = np.abs(p1 - p2) - (1/2)*((1/n1) + (1/n2))\n",
    "z_den = np.sqrt(p * (1 - p) * ((1/n1) + (1/n2)))\n",
    "z = z_num / z_den"
   ]
  },
  {
   "cell_type": "code",
   "execution_count": 5,
   "metadata": {},
   "outputs": [],
   "source": [
    "z_table = stats.norm.ppf(1 - 0.05 / 2)"
   ]
  },
  {
   "cell_type": "code",
   "execution_count": 6,
   "metadata": {},
   "outputs": [
    {
     "name": "stdout",
     "output_type": "stream",
     "text": [
      "Z-критерий табличный = 1.959963984540054; Z-критерий расчетный = 0.7874259854358908\n",
      "Статистических различий нет.\n"
     ]
    }
   ],
   "source": [
    "print(f'Z-критерий табличный = {z_table}; Z-критерий расчетный = {z}')\n",
    "if z > z_table:\n",
    "    print('Статистические различия есть.')\n",
    "else:\n",
    "    print('Статистических различий нет.')"
   ]
  },
  {
   "cell_type": "markdown",
   "metadata": {},
   "source": [
    "### Разность долей"
   ]
  },
  {
   "cell_type": "markdown",
   "metadata": {},
   "source": [
    "$\\delta \\pm z_{\\alpha / 2} * S_\\delta \\text{, где \\(\\delta\\) - разность долей} \\\\$\n",
    "$S_\\delta \\text{ - стандартная ошибка разности долей}$"
   ]
  },
  {
   "cell_type": "code",
   "execution_count": 7,
   "metadata": {},
   "outputs": [],
   "source": [
    "delta = p1 - p2"
   ]
  },
  {
   "cell_type": "code",
   "execution_count": 8,
   "metadata": {},
   "outputs": [],
   "source": [
    "S = np.sqrt(p * (1 - p * ((1/n1) + (1/n2))))"
   ]
  },
  {
   "cell_type": "code",
   "execution_count": 9,
   "metadata": {},
   "outputs": [],
   "source": [
    "x_min = delta - stats.norm.ppf(1 - 0.05 / 2) * S\n",
    "x_max = delta + stats.norm.ppf(1 - 0.05 / 2) * S"
   ]
  },
  {
   "cell_type": "code",
   "execution_count": 10,
   "metadata": {},
   "outputs": [
    {
     "name": "stdout",
     "output_type": "stream",
     "text": [
      "Доверительный интервал для разности: [-1.5910669598313734; 1.7110669598313735], \n",
      "т.к. интервал проходит через 0, статистически значимых различий нет.\n"
     ]
    }
   ],
   "source": [
    "print(f'Доверительный интервал для разности: [{x_min}; {x_max}], \\nт.к. интервал проходит через 0, статистически значимых различий нет.')"
   ]
  }
 ],
 "metadata": {
  "kernelspec": {
   "display_name": "Python 3.9.13 64-bit (microsoft store)",
   "language": "python",
   "name": "python3"
  },
  "language_info": {
   "codemirror_mode": {
    "name": "ipython",
    "version": 3
   },
   "file_extension": ".py",
   "mimetype": "text/x-python",
   "name": "python",
   "nbconvert_exporter": "python",
   "pygments_lexer": "ipython3",
   "version": "3.9.13"
  },
  "orig_nbformat": 4,
  "vscode": {
   "interpreter": {
    "hash": "831c3e761cd2ad0130ed7ee6b254b14de8f99e71150d589736823e00e12d6581"
   }
  }
 },
 "nbformat": 4,
 "nbformat_minor": 2
}
