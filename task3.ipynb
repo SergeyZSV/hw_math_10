{
 "cells": [
  {
   "cell_type": "markdown",
   "metadata": {},
   "source": [
    "Какова вероятность, что в наудачу выбранном двузначном числе цифры одинаковые?"
   ]
  },
  {
   "cell_type": "code",
   "execution_count": 1,
   "metadata": {},
   "outputs": [],
   "source": [
    "import numpy as np"
   ]
  },
  {
   "cell_type": "code",
   "execution_count": 3,
   "metadata": {},
   "outputs": [],
   "source": [
    "all_numbers = np.arange(10,100)\n",
    "len_all = len(all_numbers)"
   ]
  },
  {
   "cell_type": "code",
   "execution_count": 6,
   "metadata": {},
   "outputs": [],
   "source": [
    "doubles = np.array([])\n",
    "for i in all_numbers:\n",
    "    if i // 10 == i % 10:\n",
    "        doubles = np.append(doubles, i)\n",
    "\n",
    "len_doubles = len(doubles)"
   ]
  },
  {
   "cell_type": "code",
   "execution_count": 7,
   "metadata": {},
   "outputs": [
    {
     "name": "stdout",
     "output_type": "stream",
     "text": [
      "Вероятность, что в наудачу выбранном двузначном числе цифры одинаковые = 0.1 (10.0 %)\n"
     ]
    }
   ],
   "source": [
    "p = len_doubles / len_all\n",
    "print(f'Вероятность, что в наудачу выбранном двузначном числе цифры одинаковые = {p} ({p*100} %)')"
   ]
  }
 ],
 "metadata": {
  "kernelspec": {
   "display_name": "Python 3.9.13 64-bit (microsoft store)",
   "language": "python",
   "name": "python3"
  },
  "language_info": {
   "codemirror_mode": {
    "name": "ipython",
    "version": 3
   },
   "file_extension": ".py",
   "mimetype": "text/x-python",
   "name": "python",
   "nbconvert_exporter": "python",
   "pygments_lexer": "ipython3",
   "version": "3.9.13"
  },
  "orig_nbformat": 4,
  "vscode": {
   "interpreter": {
    "hash": "831c3e761cd2ad0130ed7ee6b254b14de8f99e71150d589736823e00e12d6581"
   }
  }
 },
 "nbformat": 4,
 "nbformat_minor": 2
}
